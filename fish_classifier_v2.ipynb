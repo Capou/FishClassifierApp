{
  "nbformat": 4,
  "nbformat_minor": 0,
  "metadata": {
    "colab": {
      "name": "fish_classifier_v2.ipynb",
      "provenance": [],
      "collapsed_sections": [],
      "include_colab_link": true
    },
    "kernelspec": {
      "display_name": "Python 3",
      "name": "python3"
    },
    "language_info": {
      "name": "python"
    },
    "widgets": {
      "application/vnd.jupyter.widget-state+json": {}
    }
  },
  "cells": [
    {
      "cell_type": "markdown",
      "metadata": {
        "id": "view-in-github",
        "colab_type": "text"
      },
      "source": [
        "<a href=\"https://colab.research.google.com/github/Capou/FishClassifier/blob/master/fish_classifier_v2.ipynb\" target=\"_parent\"><img src=\"https://colab.research.google.com/assets/colab-badge.svg\" alt=\"Open In Colab\"/></a>"
      ]
    },
    {
      "cell_type": "code",
      "metadata": {
        "id": "4i7YUvqNyf2p"
      },
      "source": [
        "#!pip install fastbook"
      ],
      "execution_count": null,
      "outputs": []
    },
    {
      "cell_type": "code",
      "metadata": {
        "id": "af8xQfB2yBrz"
      },
      "source": [
        "import pandas \n",
        "import fastbook\n",
        "import voila"
      ],
      "execution_count": 4,
      "outputs": []
    },
    {
      "cell_type": "code",
      "metadata": {
        "id": "wzAooDVXyBr0"
      },
      "source": [
        "from fastai.vision.all import *\n",
        "from fastai.vision.widgets import *\n",
        "from pandas import *\n",
        "from fastbook import * "
      ],
      "execution_count": 5,
      "outputs": []
    },
    {
      "cell_type": "code",
      "metadata": {
        "id": "jCdyvqN34mPM"
      },
      "source": [
        ""
      ],
      "execution_count": null,
      "outputs": []
    },
    {
      "cell_type": "markdown",
      "metadata": {
        "id": "nJ3v3kZMyBr1"
      },
      "source": [
        "# The Amazing Fish Classifier!"
      ]
    },
    {
      "cell_type": "markdown",
      "metadata": {
        "id": "y7DvzLTkyBr1"
      },
      "source": [
        "You are not sure about fish species flipping around infront of you. An answer is needed *fast* to avoid unnecessary stress for the animal. Additionally you want to keep your anglers license and stay within the governmental regulazions. No worries, I got you. Just take a picture of the fish and upload it to receive an answer. Fish-information only available in German.\n",
        "\n",
        "(Supported species: abramis brama, ameiurus nebulosus, cobitis taenia, cyprinus carpio, esox lucius, gymnocephalus cernua, salmo trutta) \n",
        "\n",
        "----"
      ]
    },
    {
      "cell_type": "code",
      "metadata": {
        "id": "eveFHbQG5ZnR"
      },
      "source": [
        "#path = Path()\n",
        "#path"
      ],
      "execution_count": null,
      "outputs": []
    },
    {
      "cell_type": "code",
      "metadata": {
        "colab": {
          "base_uri": "https://localhost:8080/"
        },
        "id": "jNZ9upqX598m",
        "outputId": "858726bc-6585-4e4b-bb5e-a921a2c26bfa"
      },
      "source": [
        "#debug = path/'fish-information.json'\n",
        "#debug"
      ],
      "execution_count": 21,
      "outputs": [
        {
          "output_type": "execute_result",
          "data": {
            "text/plain": [
              "Path('fish-information.json')"
            ]
          },
          "metadata": {
            "tags": []
          },
          "execution_count": 21
        }
      ]
    },
    {
      "cell_type": "code",
      "metadata": {
        "id": "iKQcvxKS4L26"
      },
      "source": [
        "#dfs = pandas.read_json('/content/drive/MyDrive/pkl/fish-information.json')\n",
        "#dfs = pandas.read_json(path/'fish-information.json')\n",
        "#dfs"
      ],
      "execution_count": null,
      "outputs": []
    },
    {
      "cell_type": "code",
      "metadata": {
        "id": "MpCDmOznyBr1"
      },
      "source": [
        "path = Path()\n",
        "learn_inf = load_learner(path/'export-res34-047.pkl', cpu=True)\n",
        "#learn_inf = load_learner('/content/drive/MyDrive/pkl/export-res34-047_final.pkl', cpu=True)\n",
        "df = pandas.read_json(path/'fish-information.json')\n",
        "btn_upload = widgets.FileUpload()\n",
        "out_pl = widgets.Output()\n",
        "out_pl_df = widgets.Output()\n",
        "lbl_pred = widgets.Label()"
      ],
      "execution_count": 10,
      "outputs": []
    },
    {
      "cell_type": "code",
      "metadata": {
        "id": "gFjOZ2rAyBr3"
      },
      "source": [
        "def on_data_change(change):\n",
        "    lbl_pred.value = ''\n",
        "    #df = create_df()\n",
        "    img = PILImage.create(btn_upload.data[-1])\n",
        "    pred,pred_idx,probs = learn_inf.predict(img)\n",
        "    out_pl.clear_output()\n",
        "    with out_pl: display(img.to_thumb(128,128))\n",
        "    out_pl_df.clear_output()\n",
        "    with out_pl_df: display(df.loc[f'{pred}'])\n",
        "    lbl_pred.value = f'Prediction: {pred}; Probability: {probs[pred_idx]:.04f}'"
      ],
      "execution_count": null,
      "outputs": []
    },
    {
      "cell_type": "code",
      "metadata": {
        "id": "BjS6o6E0yBr4"
      },
      "source": [
        "btn_upload.observe(on_data_change, names=['data'])"
      ],
      "execution_count": null,
      "outputs": []
    },
    {
      "cell_type": "code",
      "metadata": {
        "scrolled": false,
        "colab": {
          "referenced_widgets": [
            "66ece5993f2744cb82702c2bf58326c9"
          ]
        },
        "id": "nIQtOTGJyBr4",
        "outputId": "f79d7c66-83e0-4d3e-95cb-a8dcf95e2ad0"
      },
      "source": [
        "display(HBox([VBox([widgets.Label('Select your fish picture!'), btn_upload, out_pl, lbl_pred]), VBox([widgets.Label('Information'), out_pl_df])]))"
      ],
      "execution_count": null,
      "outputs": [
        {
          "output_type": "display_data",
          "data": {
            "application/vnd.jupyter.widget-view+json": {
              "model_id": "66ece5993f2744cb82702c2bf58326c9",
              "version_major": 2,
              "version_minor": 0
            },
            "text/plain": [
              "VBox(children=(Label(value='Select your bear!'), FileUpload(value={}, description='Upload'), Output(), Label(v…"
            ]
          },
          "metadata": {
            "tags": []
          }
        }
      ]
    },
    {
      "cell_type": "code",
      "metadata": {
        "id": "fdYoaJ20yBr4"
      },
      "source": [
        ""
      ],
      "execution_count": null,
      "outputs": []
    }
  ]
}